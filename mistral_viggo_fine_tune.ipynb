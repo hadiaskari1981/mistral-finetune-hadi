{
 "cells": [
  {
   "cell_type": "markdown",
   "id": "2d38a2ef-8299-4907-a9a4-8cc7cf207c9f",
   "metadata": {},
   "source": [
    "## Let's begin!\n",
    "The libraries to install. Run once per instance"
   ]
  },
  {
   "cell_type": "code",
   "execution_count": null,
   "id": "9681328e-adc2-4809-bbfb-de9dea61ceb6",
   "metadata": {},
   "outputs": [],
   "source": [
    "!pip install bitsandbytes\n",
    "!pip install datasets==2.17.1\n",
    "!pip install accelerate\n",
    "!pip install peft\n",
    "!pip install transformers\n",
    "!pip install scipy ipywidgets"
   ]
  },
  {
   "cell_type": "code",
   "execution_count": 1,
   "id": "b923d632-86af-477d-915b-7da70ccc5c50",
   "metadata": {},
   "outputs": [
    {
     "name": "stdout",
     "output_type": "stream",
     "text": [
      "The history saving thread hit an unexpected error (OperationalError('attempt to write a readonly database')).History will not be written to the database.\n"
     ]
    }
   ],
   "source": [
    "import os\n",
    "from datetime import datetime\n",
    "import transformers\n",
    "from datasets import load_dataset\n",
    "import torch\n",
    "from transformers import AutoTokenizer, BitsAndBytesConfig, AutoModelForCausalLM\n",
    "from peft import prepare_model_for_kbit_training, LoraConfig, get_peft_model, PeftModel\n",
    "\n",
    "from accelerate import FullyShardedDataParallelPlugin, Accelerator\n",
    "from torch.distributed.fsdp.fully_sharded_data_parallel import FullOptimStateDictConfig, FullStateDictConfig"
   ]
  },
  {
   "cell_type": "code",
   "execution_count": 3,
   "id": "8e98e5fe-d52d-4ed5-b335-3a763962307c",
   "metadata": {},
   "outputs": [],
   "source": [
    "# the config for peft_model\n",
    "config = LoraConfig(\n",
    "    r=8,\n",
    "    lora_alpha=16,\n",
    "    target_modules=[\n",
    "        \"q_proj\",\n",
    "        \"k_proj\",\n",
    "        \"v_proj\",\n",
    "        \"o_proj\",\n",
    "        \"gate_proj\",\n",
    "        \"up_proj\",\n",
    "        \"down_proj\",\n",
    "        \"lm_head\",\n",
    "    ],\n",
    "    bias=\"none\",\n",
    "    lora_dropout=0.05,  # Conventional\n",
    "    task_type=\"CAUSAL_LM\",\n",
    ")"
   ]
  },
  {
   "cell_type": "markdown",
   "id": "45f8d95e-fd7c-4df1-9a63-5b43dcc5a70a",
   "metadata": {},
   "source": [
    "## Data preprocessing\n",
    "\n",
    "- Load the data\n",
    "- Get the tokenizer from the model\n",
    "- Define the prompt\n",
    "- Generate the tokenized propmt for train and val datasets"
   ]
  },
  {
   "cell_type": "code",
   "execution_count": 5,
   "id": "7df27d4c-3e00-45ed-875d-50b695862977",
   "metadata": {},
   "outputs": [],
   "source": [
    "class DataTokenizer:\n",
    "    def __init__(self, args: dict):\n",
    "        self.data_path = \"gem/viggo\"\n",
    "        self.model_max_length = args[\"model_max_length\"]\n",
    "        self.base_model_name = args[\"base_model_name\"]\n",
    "        self.cache_dir = args.get(\"cache_dir\", None)\n",
    "\n",
    "        self.tokenizer = AutoTokenizer.from_pretrained(\n",
    "            self.base_model_name,\n",
    "            model_max_length=512,\n",
    "            padding_side=\"left\",\n",
    "            add_eos_token=True,\n",
    "            cache_dir=self.cache_dir)\n",
    "\n",
    "        self.tokenizer.pad_token = self.tokenizer.eos_token\n",
    "\n",
    "        self.train_dataset = load_dataset(\n",
    "            self.data_path, split='train', trust_remote_code=True, cache_dir=self.cache_dir\n",
    "        )\n",
    "        self.val_dataset = load_dataset(\n",
    "            self.data_path, split='validation', trust_remote_code=True, cache_dir=self.cache_dir\n",
    "        )\n",
    "        self.test_dataset = load_dataset(\n",
    "            self.data_path, split='test', trust_remote_code=True, cache_dir=self.cache_dir\n",
    "        )\n",
    "\n",
    "        self.tokenized_train_dataset = self.train_dataset.map(self.generate_and_tokenize_prompt)\n",
    "        self.tokenized_val_dataset = self.val_dataset.map(self.generate_and_tokenize_prompt)\n",
    "\n",
    "    def prompt_tokenizer(self, prompt):\n",
    "        result = self.tokenizer(\n",
    "            prompt,\n",
    "            truncation=True,\n",
    "            max_length=512,\n",
    "            padding=\"max_length\",\n",
    "        )\n",
    "        result[\"labels\"] = result[\"input_ids\"].copy()\n",
    "        return result\n",
    "\n",
    "    def generate_and_tokenize_prompt(self, data_point):\n",
    "        full_prompt = f\"\"\"Given a target sentence construct the underlying meaning representation of the input sentence as a single function with attributes and attribute values.\n",
    "                    This function should describe the target string accurately and the function must be one of the following ['inform', 'request', 'give_opinion', 'confirm', 'verify_attribute', 'suggest', 'request_explanation', 'recommend', 'request_attribute'].\n",
    "                    The attributes must be one of the following: ['name', 'exp_release_date', 'release_year', 'developer', 'esrb', 'rating', 'genres', 'player_perspective', 'has_multiplayer', 'platforms', 'available_on_steam', 'has_linux_release', 'has_mac_release', 'specifier']\n",
    "                \n",
    "                    ### Target sentence:\n",
    "                    {data_point[\"target\"]}\n",
    "                \n",
    "                    ### Meaning representation:\n",
    "                    {data_point[\"meaning_representation\"]}\n",
    "                    \"\"\"\n",
    "        return self.prompt_tokenizer(full_prompt)"
   ]
  },
  {
   "cell_type": "markdown",
   "id": "1c5bf16c-c883-4c78-8628-c26bb265d0f3",
   "metadata": {},
   "source": [
    "## Load the base model either for training or inference"
   ]
  },
  {
   "cell_type": "code",
   "execution_count": 9,
   "id": "12a23c08-8e66-4984-ad2f-347e013c78c5",
   "metadata": {},
   "outputs": [],
   "source": [
    "class BaseModelLoader:\n",
    "    def __init__(self, args):\n",
    "        self.base_model_name = args[\"base_model_name\"]\n",
    "        self.cache_dir = args.get(\"cache_dir\", None)\n",
    "        self.is_inference = args.get(\"is_inference\")\n",
    "        self.quantization_config = BitsAndBytesConfig(\n",
    "            load_in_4bit=True,\n",
    "            bnb_4bit_use_double_quant=True,\n",
    "            bnb_4bit_quant_type='nf4',\n",
    "            bnb_4bit_compute_dtype=torch.bfloat16,\n",
    "        )\n",
    "        if self.is_inference:\n",
    "            self.model = AutoModelForCausalLM.from_pretrained(\n",
    "                self.base_model_name,\n",
    "                quantization_config=self.quantization_config,\n",
    "                cache_dir=self.cache_dir,\n",
    "                device_map=\"auto\",\n",
    "                trust_remote_code=True\n",
    "            )\n",
    "        else:\n",
    "            self.model = AutoModelForCausalLM.from_pretrained(\n",
    "                self.base_model_name,\n",
    "                quantization_config=self.quantization_config,\n",
    "                cache_dir=self.cache_dir)"
   ]
  },
  {
   "cell_type": "markdown",
   "id": "22e8f0e9-d49e-45c1-a59d-23f2b5264c45",
   "metadata": {},
   "source": [
    "Creates an instance of an accelerator for distributed training (on multi-GPU, TPU) or mixed precision training.</pre>\n",
    "I am not sure if it is helpful when using only one GPU."
   ]
  },
  {
   "cell_type": "code",
   "execution_count": 7,
   "id": "ed393b75-a31c-4533-9684-e39d2938dfa2",
   "metadata": {},
   "outputs": [],
   "source": [
    "def accelerator():\n",
    "    plugin = FullyShardedDataParallelPlugin(\n",
    "        state_dict_config=FullStateDictConfig(offload_to_cpu=True, rank0_only=False),\n",
    "        optim_state_dict_config=FullOptimStateDictConfig(offload_to_cpu=True, rank0_only=False),\n",
    "    )\n",
    "\n",
    "    acc = Accelerator(fsdp_plugin=plugin)\n",
    "\n",
    "    return acc"
   ]
  },
  {
   "cell_type": "code",
   "execution_count": null,
   "id": "10578a21-dd03-45c8-86ca-231ae6723b26",
   "metadata": {},
   "outputs": [],
   "source": [
    "def print_trainable_parameters(model):\n",
    "    \"\"\"\n",
    "    Prints the number of trainable parameters in the model.\n",
    "    \"\"\"\n",
    "    trainable_params = 0\n",
    "    all_param = 0\n",
    "    for _, param in model.named_parameters():\n",
    "        all_param += param.numel()\n",
    "        if param.requires_grad:\n",
    "            trainable_params += param.numel()\n",
    "    logging.info(\n",
    "        f\"trainable params: {trainable_params} || all params: {all_param} || trainable%: {100 * trainable_params / all_param}\"\n",
    "    )"
   ]
  },
  {
   "cell_type": "code",
   "execution_count": 10,
   "id": "7ef4f546-f6c9-4a2a-b8b4-f045429fdc35",
   "metadata": {},
   "outputs": [],
   "source": [
    "### create the path to save model, data, and output of the code"
   ]
  },
  {
   "cell_type": "code",
   "execution_count": 11,
   "id": "a60259c5-81c8-4218-8548-d46cf5549391",
   "metadata": {},
   "outputs": [],
   "source": [
    "project = \"mistral-viggo-finetune\"\n",
    "\n",
    "current_working_dir = os.getcwd()\n",
    "\n",
    "saved_dir = f\"{current_working_dir}/data\"\n",
    "os.makedirs(saved_dir, exist_ok=True)\n",
    "\n",
    "cache_path = f'{saved_dir}/cache'\n",
    "os.makedirs(cache_path, exist_ok=True)\n",
    "\n",
    "model_output_path = f\"{saved_dir}/{project}\"\n",
    "os.makedirs(model_output_path, exist_ok=True)\n",
    "\n",
    "logs_path = f\"{saved_dir}/logs\"\n",
    "os.makedirs(logs_path, exist_ok=True)"
   ]
  },
  {
   "cell_type": "code",
   "execution_count": 12,
   "id": "981f8790-4202-4dcc-89e2-a96ca8a1dacf",
   "metadata": {},
   "outputs": [],
   "source": [
    "### arguments to use in the training "
   ]
  },
  {
   "cell_type": "code",
   "execution_count": 20,
   "id": "ead0918e-b26a-4c1b-8564-fc32a952290e",
   "metadata": {},
   "outputs": [],
   "source": [
    "train_args = {\n",
    "    \"base_model_name\": \"mistralai/Mistral-7B-v0.3\",\n",
    "    \"cache_dir\": cache_path,\n",
    "    \"is_inference\": False,\n",
    "    \"data_path\": \"gem/viggo\",\n",
    "    \"model_max_length\": 512,\n",
    "    \"model_output_dir\": model_output_path,\n",
    "    \"logs_dir\": logs_path,\n",
    "    \"project_name\": project\n",
    "}"
   ]
  },
  {
   "cell_type": "code",
   "execution_count": 1,
   "id": "2219405e-46a4-419f-b401-8dba8a54ec9f",
   "metadata": {},
   "outputs": [
    {
     "data": {
      "application/vnd.jupyter.widget-view+json": {
       "model_id": "b213f5d02d2047caae3e24d90ac4735a",
       "version_major": 2,
       "version_minor": 0
      },
      "text/plain": [
       "VBox(children=(HTML(value='<center> <img\\nsrc=https://huggingface.co/front/assets/huggingface_logo-noborder.sv…"
      ]
     },
     "metadata": {},
     "output_type": "display_data"
    }
   ],
   "source": [
    "from huggingface_hub import notebook_login\n",
    "\n",
    "notebook_login()"
   ]
  },
  {
   "cell_type": "code",
   "execution_count": 14,
   "id": "0138f604-3e9e-435c-ae39-367f3c522eb7",
   "metadata": {},
   "outputs": [],
   "source": [
    "### load base_model for the training"
   ]
  },
  {
   "cell_type": "code",
   "execution_count": 15,
   "id": "22772974-afbd-459e-8fc6-3b0d8a5f4c61",
   "metadata": {},
   "outputs": [],
   "source": [
    "base_model = BaseModelLoader(train_args).model"
   ]
  },
  {
   "cell_type": "code",
   "execution_count": 16,
   "id": "7ae5c5ca-077c-4f4a-a686-28842c466125",
   "metadata": {},
   "outputs": [],
   "source": [
    "### tokenized the train and val datasets"
   ]
  },
  {
   "cell_type": "code",
   "execution_count": null,
   "id": "5c8c262a-03c2-4c14-a591-ba3cb6c66d5d",
   "metadata": {},
   "outputs": [],
   "source": [
    "data_tokenizer = DataTokenizer(train_args)\n",
    "\n",
    "tokenized_train_dataset = data_tokenizer.tokenized_train_dataset\n",
    "tokenized_val_dataset = data_tokenizer.tokenized_val_dataset"
   ]
  },
  {
   "cell_type": "markdown",
   "id": "4053ba10-efda-4fdb-ac11-8ee707e0928c",
   "metadata": {},
   "source": [
    "To start fine-tuning, we should pre-process the model. For that, we use the `prepare_model_for_kbit_training` from peft."
   ]
  },
  {
   "cell_type": "code",
   "execution_count": null,
   "id": "2d60b99d-1e21-4459-9fd2-81402d508be2",
   "metadata": {},
   "outputs": [],
   "source": [
    "base_model.gradient_checkpointing_enable()\n",
    "base_model = prepare_model_for_kbit_training(base_model)"
   ]
  },
  {
   "cell_type": "code",
   "execution_count": 18,
   "id": "c1a78e2b-62f2-448c-99b9-941b2859cc59",
   "metadata": {},
   "outputs": [],
   "source": [
    "### the config contains the paramaters to define low-rank matrix"
   ]
  },
  {
   "cell_type": "code",
   "execution_count": null,
   "id": "64316995-c1ce-46c2-b029-2c2b3aeb419c",
   "metadata": {},
   "outputs": [],
   "source": [
    "base_model = get_peft_model(base_model, config)\n",
    "print_trainable_parameters(base_model)"
   ]
  },
  {
   "cell_type": "code",
   "execution_count": 19,
   "id": "5cfa82a0-081a-4ae5-be13-504fc88056b5",
   "metadata": {},
   "outputs": [],
   "source": [
    "### Apply the accelerator. You can comment this out to remove the accelerator."
   ]
  },
  {
   "cell_type": "code",
   "execution_count": null,
   "id": "02e01e1f-9167-4618-828b-d844b6ab52d1",
   "metadata": {},
   "outputs": [],
   "source": [
    "acc = accelerator()\n",
    "base_model = acc.prepare_model(base_model)"
   ]
  },
  {
   "cell_type": "code",
   "execution_count": null,
   "id": "2dea95af-e12e-48ca-ac1c-076003767e8c",
   "metadata": {},
   "outputs": [],
   "source": [
    "tokenizer = data_tokenizer.tokenizer\n",
    "\n",
    "trainer = transformers.Trainer(\n",
    "    model=base_model,\n",
    "    train_dataset=tokenized_train_dataset,\n",
    "    eval_dataset=tokenized_val_dataset,\n",
    "    args=transformers.TrainingArguments(\n",
    "        output_dir=train_args.get(\"model_output_dir\"),\n",
    "        warmup_steps=5,\n",
    "        per_device_train_batch_size=2,\n",
    "        gradient_checkpointing=True,\n",
    "        gradient_accumulation_steps=4,\n",
    "        max_steps=100,\n",
    "        learning_rate=2.5e-5,  # Want about 10x smaller than the Mistral learning rate\n",
    "        logging_steps=50,\n",
    "        bf16=True,\n",
    "        optim=\"paged_adamw_8bit\",\n",
    "        logging_dir=train_args.get(\"logs_dir\"),  # Directory for storing logs\n",
    "        save_strategy=\"steps\",  # Save the model checkpoint every logging step\n",
    "        save_steps=10,  # Save checkpoints every 50 steps\n",
    "            evaluation_strategy=\"steps\",  # Evaluate the model every logging step\n",
    "        eval_steps=10,  # Evaluate and save checkpoints every 50 steps\n",
    "        do_eval=True,  # Perform evaluation at the end of training\n",
    "        run_name=f\"{train_args.get('project_name')}-{datetime.now().strftime('%Y-%m-%d-%H-%M')}\"\n",
    "    ),\n",
    "    data_collator=transformers.DataCollatorForLanguageModeling(tokenizer, mlm=False),\n",
    ")"
   ]
  },
  {
   "cell_type": "markdown",
   "id": "8a133b2f-d000-4237-ade6-d61a4afe659e",
   "metadata": {},
   "source": [
    "### Train"
   ]
  },
  {
   "cell_type": "code",
   "execution_count": null,
   "id": "9d8155e5-efed-4711-b468-07bbb8005476",
   "metadata": {},
   "outputs": [],
   "source": [
    "model.config.use_cache = False  # silence the warnings. Please re-enable for inference!\n",
    "trainer.train()"
   ]
  },
  {
   "cell_type": "markdown",
   "id": "c518e499-5f5a-4d09-aaee-8209afe12044",
   "metadata": {},
   "source": [
    "### Let's try the trained model"
   ]
  },
  {
   "cell_type": "code",
   "execution_count": 21,
   "id": "eac5110a-279c-4d53-91c9-f88203f25407",
   "metadata": {},
   "outputs": [],
   "source": [
    "inference_args = {\n",
    "    \"base_model_name\": \"mistralai/Mistral-7B-v0.3\",\n",
    "    \"cache_dir\": cache_path,\n",
    "    \"is_inference\": True,\n",
    "    \"data_path\": \"gem/viggo\",\n",
    "    \"model_max_length\": 512,\n",
    "    \"project_name\": project,\n",
    "    \"model_output_path\": model_output_path,\n",
    "    \"checkpoint\": \"checkpoint-1000\",\n",
    "    \"target_sentence\": \"I remember you saying you found Little Big Adventure to be average. Are you not usually \"\n",
    "                       \"that into single-player games on PlayStation?\"\n",
    "}"
   ]
  },
  {
   "cell_type": "code",
   "execution_count": 22,
   "id": "a5c01af2-e247-46aa-af75-d908ad1066a3",
   "metadata": {},
   "outputs": [],
   "source": [
    "### load base-model for inference "
   ]
  },
  {
   "cell_type": "code",
   "execution_count": null,
   "id": "567f961a-a25a-47ac-9ebd-0239eccb7091",
   "metadata": {},
   "outputs": [],
   "source": [
    "base_model = BaseModelLoader(inference_args).model"
   ]
  },
  {
   "cell_type": "code",
   "execution_count": null,
   "id": "a9d8d1bf-9dfd-43d3-8323-dead23255298",
   "metadata": {},
   "outputs": [],
   "source": [
    "eval_tokenizer = AutoTokenizer.from_pretrained(\n",
    "        inference_args.get(\"base_model_name\"),\n",
    "        add_bos_token=True,\n",
    "        trust_remote_code=True,\n",
    "        cache_dir=inference_args.get(\"cache_dir)\n",
    "    )"
   ]
  },
  {
   "cell_type": "code",
   "execution_count": 23,
   "id": "66d1777e-3c0e-45fb-9b7e-1aa1ae79414f",
   "metadata": {},
   "outputs": [],
   "source": [
    "### load fine-tuned model"
   ]
  },
  {
   "cell_type": "code",
   "execution_count": null,
   "id": "cb01cbcc-196a-44df-a099-c8a38bd955d9",
   "metadata": {},
   "outputs": [],
   "source": [
    "output_dir = inference_args.get(\"model_output_path\")\n",
    "checkpoint_version = inference_args.get(\"checkpoint\")\n",
    "ft_model = PeftModel.from_pretrained(base_model, f\"{output_dir}/{checkpoint_version}\")"
   ]
  },
  {
   "cell_type": "code",
   "execution_count": 24,
   "id": "d27c4074-6596-4dfe-9d90-c064d28fe9f6",
   "metadata": {},
   "outputs": [],
   "source": [
    "eval_prompt = f\"\"\"Given a target sentence construct the underlying meaning representation of the input sentence as a single function with attributes and attribute values.\n",
    "    This function should describe the target string accurately and the function must be one of the following ['inform', 'request', 'give_opinion', 'confirm', 'verify_attribute', 'suggest', 'request_explanation', 'recommend', 'request_attribute'].\n",
    "    The attributes must be one of the following: ['name', 'exp_release_date', 'release_year', 'developer', 'esrb', 'rating', 'genres', 'player_perspective', 'has_multiplayer', 'platforms', 'available_on_steam', 'has_linux_release', 'has_mac_release', 'specifier']\n",
    "\n",
    "    ### Target sentence:\n",
    "    {inference_args.get(\"target_sentence\")}\n",
    "\n",
    "    ### Meaning representation:\n",
    "    \"\"\""
   ]
  },
  {
   "cell_type": "code",
   "execution_count": 2,
   "id": "e35c4a38-68e0-4446-94be-8f32b605887d",
   "metadata": {},
   "outputs": [],
   "source": [
    "### fine-tuned model outcome"
   ]
  },
  {
   "cell_type": "code",
   "execution_count": null,
   "id": "678f7e4b-d925-4cfc-b277-abd4df2e5c55",
   "metadata": {},
   "outputs": [],
   "source": [
    "model_input = eval_tokenizer(eval_prompt, return_tensors=\"pt\").to(\"cuda\")\n",
    "\n",
    "ft_model.eval()\n",
    "with torch.no_grad():\n",
    "    print(eval_tokenizer.decode(ft_model.generate(**model_input, max_new_tokens=256)[0], skip_special_tokens=True))"
   ]
  },
  {
   "cell_type": "code",
   "execution_count": 3,
   "id": "a051fcf4-9cdb-44e2-8132-19fd5c5c5d1f",
   "metadata": {},
   "outputs": [],
   "source": [
    "### base-model outcome"
   ]
  },
  {
   "cell_type": "code",
   "execution_count": null,
   "id": "0554c346-a5ae-4e60-a2ec-603792056e46",
   "metadata": {},
   "outputs": [],
   "source": [
    "base_model.eval()\n",
    "with torch.no_grad():\n",
    "    print(eval_tokenizer.decode(base_model.generate(**model_input, max_new_tokens=256)[0], skip_special_tokens=True))"
   ]
  }
 ],
 "metadata": {
  "kernelspec": {
   "display_name": "Python 3 (ipykernel)",
   "language": "python",
   "name": "python3"
  },
  "language_info": {
   "codemirror_mode": {
    "name": "ipython",
    "version": 3
   },
   "file_extension": ".py",
   "mimetype": "text/x-python",
   "name": "python",
   "nbconvert_exporter": "python",
   "pygments_lexer": "ipython3",
   "version": "3.10.12"
  }
 },
 "nbformat": 4,
 "nbformat_minor": 5
}
